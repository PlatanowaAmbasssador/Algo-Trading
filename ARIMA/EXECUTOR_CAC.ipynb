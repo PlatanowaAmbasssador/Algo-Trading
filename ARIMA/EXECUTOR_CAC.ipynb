{
 "cells": [
  {
   "cell_type": "code",
   "execution_count": null,
   "metadata": {},
   "outputs": [],
   "source": [
    "from ARIMA_FUNCTIONS_REAL import *"
   ]
  },
  {
   "attachments": {},
   "cell_type": "markdown",
   "metadata": {},
   "source": [
    "# CAC 40"
   ]
  },
  {
   "cell_type": "code",
   "execution_count": null,
   "metadata": {},
   "outputs": [],
   "source": [
    "# download data\n",
    "dfCAC_ARIMA = get_data_ARIMA(index_symbol='^FCHI', start='2000-01-01')"
   ]
  },
  {
   "cell_type": "markdown",
   "metadata": {},
   "source": [
    "### Hyperparameter Tunning SET-UP"
   ]
  },
  {
   "cell_type": "code",
   "execution_count": null,
   "metadata": {},
   "outputs": [],
   "source": [
    "lookback_bars = 1000\n",
    "validation_bars = 250\n",
    "testing_bars = 250\n",
    "lag = 21\n",
    "\n",
    "p_max = 6\n",
    "q_max = 6\n",
    "\n",
    "SENS = 'SENS_0A'\n",
    "PATH = F'CAC/Sensitivity Analysis/{SENS}'\n",
    "\n",
    "TRANSACTION_COST = (0.2/100)"
   ]
  },
  {
   "cell_type": "markdown",
   "metadata": {},
   "source": [
    "# ARIMA"
   ]
  },
  {
   "cell_type": "code",
   "execution_count": null,
   "metadata": {},
   "outputs": [],
   "source": [
    "model_predictionsCAC, train_dataCAC, test_validation_dataCAC = main_arima(p_max, q_max, dfCAC_ARIMA, lookback_bars, validation_bars, testing_bars)"
   ]
  },
  {
   "cell_type": "code",
   "execution_count": null,
   "metadata": {},
   "outputs": [],
   "source": [
    "df_testCAC_ARIMA = pd.concat(test_validation_dataCAC, axis=0)"
   ]
  },
  {
   "cell_type": "code",
   "execution_count": null,
   "metadata": {},
   "outputs": [],
   "source": [
    "num = lookback_bars+validation_bars+lag\n",
    "\n",
    "inv_y_test_LO = df_testCAC_ARIMA['Close'].values[validation_bars+lag:]\n",
    "inv_y_pred_test_LO = model_predictionsCAC[validation_bars+lag:]"
   ]
  },
  {
   "cell_type": "code",
   "execution_count": null,
   "metadata": {},
   "outputs": [],
   "source": [
    "df_inv_y_test_LO = pd.DataFrame(data={'Date': dfCAC_ARIMA.index[num:(len(inv_y_test_LO)+num)], 'inv_y__test': inv_y_test_LO})\n",
    "df_inv_y_pred_test_LO = pd.DataFrame(data={'Date': dfCAC_ARIMA.index[num:(len(inv_y_test_LO)+num)], 'inv_y_pred_test': inv_y_pred_test_LO})"
   ]
  },
  {
   "cell_type": "code",
   "execution_count": null,
   "metadata": {},
   "outputs": [],
   "source": [
    "fig_ARIMA(df_index=dfCAC_ARIMA, df_test=df_inv_y_test_LO, df_predictions=df_inv_y_pred_test_LO)"
   ]
  },
  {
   "cell_type": "markdown",
   "metadata": {},
   "source": [
    "# EQUITY CURVE"
   ]
  },
  {
   "cell_type": "markdown",
   "metadata": {},
   "source": [
    "# Long-Only"
   ]
  },
  {
   "cell_type": "markdown",
   "metadata": {},
   "source": [
    "# Performance Metrics"
   ]
  },
  {
   "cell_type": "code",
   "execution_count": null,
   "metadata": {},
   "outputs": [],
   "source": [
    "position_LO = np.where(df_inv_y_pred_test_LO['inv_y_pred_test'].shift(-1)>df_inv_y_test_LO['inv_y__test'],1,0)"
   ]
  },
  {
   "cell_type": "code",
   "execution_count": null,
   "metadata": {},
   "outputs": [],
   "source": [
    "df_Equity_Curve = dfCAC_ARIMA[['Close']]"
   ]
  },
  {
   "cell_type": "code",
   "execution_count": null,
   "metadata": {},
   "outputs": [],
   "source": [
    "df_Equity_Curve = df_Equity_Curve[num:len(inv_y_test_LO)+num]"
   ]
  },
  {
   "cell_type": "code",
   "execution_count": null,
   "metadata": {},
   "outputs": [],
   "source": [
    "df_Equity_Curve['strat_return'] = df_Equity_Curve['Close'].pct_change().dropna()\n",
    "df_Equity_Curve['bnh_return'] = df_Equity_Curve['Close'].pct_change().dropna()"
   ]
  },
  {
   "cell_type": "code",
   "execution_count": null,
   "metadata": {},
   "outputs": [],
   "source": [
    "df_Equity_Curve['position'] = position_LO\n",
    "df_Equity_Curve = transaction_cost(df_Equity_Curve, TRANSACTION_COST) "
   ]
  },
  {
   "cell_type": "code",
   "execution_count": null,
   "metadata": {},
   "outputs": [],
   "source": [
    "df_Equity_Curve[\"strategy\"] = (df_Equity_Curve[\"strat_return\"] * df_Equity_Curve['position'].shift(1))\n",
    "df_Equity_Curve[\"strategy\"] = (1+df_Equity_Curve[\"strategy\"].fillna(0)).cumprod()\n",
    "\n",
    "df_Equity_Curve['buy_n_hold'] = (1 + df_Equity_Curve['bnh_return'].fillna(0)).cumprod()"
   ]
  },
  {
   "cell_type": "code",
   "execution_count": null,
   "metadata": {},
   "outputs": [],
   "source": [
    "fig_strategies(df_Equity_Curve)"
   ]
  },
  {
   "cell_type": "code",
   "execution_count": null,
   "metadata": {},
   "outputs": [],
   "source": [
    "df_Equity_Curve['position'].value_counts()"
   ]
  },
  {
   "cell_type": "markdown",
   "metadata": {},
   "source": [
    "# PERFORMANCE METRICS"
   ]
  },
  {
   "cell_type": "code",
   "execution_count": null,
   "metadata": {},
   "outputs": [],
   "source": [
    "wyniki(np.array(df_Equity_Curve['buy_n_hold'].values), 'Equity_Curve_BuyAndHold')"
   ]
  },
  {
   "cell_type": "code",
   "execution_count": null,
   "metadata": {},
   "outputs": [],
   "source": [
    "wyniki(np.array(df_Equity_Curve['strategy'].values), 'Equity_Curve_strategii')"
   ]
  },
  {
   "cell_type": "code",
   "execution_count": null,
   "metadata": {},
   "outputs": [],
   "source": [
    "porownanie(np.array(df_Equity_Curve['strategy'].values), np.array(df_Equity_Curve['buy_n_hold'].values))"
   ]
  },
  {
   "cell_type": "markdown",
   "metadata": {},
   "source": [
    "### TO CSV - SAVE"
   ]
  },
  {
   "cell_type": "code",
   "execution_count": null,
   "metadata": {},
   "outputs": [],
   "source": [
    "STOCK_NAME_FOLDER = f'./Results/{PATH}/Visualisations'\n",
    "\n",
    "if not os.path.exists(STOCK_NAME_FOLDER):\n",
    "    os.makedirs(STOCK_NAME_FOLDER)\n",
    "\n",
    "df_Equity_Curve.to_csv(f'{STOCK_NAME_FOLDER}/df_EC_LO_MAIN.csv')"
   ]
  },
  {
   "cell_type": "markdown",
   "metadata": {},
   "source": [
    "# Long Short"
   ]
  },
  {
   "cell_type": "code",
   "execution_count": null,
   "metadata": {},
   "outputs": [],
   "source": [
    "num = lookback_bars+validation_bars+lag\n",
    "\n",
    "inv_y_test_LS = df_testCAC_ARIMA['Close'].values[validation_bars+lag:]\n",
    "inv_y_pred_test_LS = model_predictionsCAC[validation_bars+lag:]"
   ]
  },
  {
   "cell_type": "code",
   "execution_count": null,
   "metadata": {},
   "outputs": [],
   "source": [
    "df_inv_y_test_LS = pd.DataFrame(data={'Date': dfCAC_ARIMA.index[num:(len(inv_y_test_LS)+num)], 'inv_y__test': inv_y_test_LS})\n",
    "df_inv_y_pred_test_LS = pd.DataFrame(data={'Date': dfCAC_ARIMA.index[num:(len(inv_y_test_LS)+num)], 'inv_y_pred_test': inv_y_pred_test_LS})"
   ]
  },
  {
   "cell_type": "code",
   "execution_count": null,
   "metadata": {},
   "outputs": [],
   "source": [
    "fig_ARIMA(df_index=dfCAC_ARIMA, df_test=df_inv_y_test_LS, df_predictions=df_inv_y_pred_test_LS)"
   ]
  },
  {
   "cell_type": "markdown",
   "metadata": {},
   "source": [
    "# Performance Metrics"
   ]
  },
  {
   "cell_type": "code",
   "execution_count": null,
   "metadata": {},
   "outputs": [],
   "source": [
    "# position_LO = (test_model_predictions_LO>0.5).astype(int)\n",
    "position_LS = np.where(df_inv_y_pred_test_LS['inv_y_pred_test'].shift(-1)>df_inv_y_test_LS['inv_y__test'],1,-1)"
   ]
  },
  {
   "cell_type": "code",
   "execution_count": null,
   "metadata": {},
   "outputs": [],
   "source": [
    "df_Equity_Curve_LS = dfCAC_ARIMA[['Close']]"
   ]
  },
  {
   "cell_type": "code",
   "execution_count": null,
   "metadata": {},
   "outputs": [],
   "source": [
    "df_Equity_Curve_LS = df_Equity_Curve_LS[num:len(inv_y_test_LS)+num]"
   ]
  },
  {
   "cell_type": "code",
   "execution_count": null,
   "metadata": {},
   "outputs": [],
   "source": [
    "df_Equity_Curve_LS['strat_return'] = df_Equity_Curve_LS['Close'].pct_change().dropna()\n",
    "df_Equity_Curve_LS['bnh_return'] = df_Equity_Curve_LS['Close'].pct_change().dropna()"
   ]
  },
  {
   "cell_type": "code",
   "execution_count": null,
   "metadata": {},
   "outputs": [],
   "source": [
    "df_Equity_Curve_LS['position'] = position_LS\n",
    "df_Equity_Curve_LS = transaction_cost(df_Equity_Curve_LS, TRANSACTION_COST) "
   ]
  },
  {
   "cell_type": "code",
   "execution_count": null,
   "metadata": {},
   "outputs": [],
   "source": [
    "df_Equity_Curve_LS[\"strategy\"] = (df_Equity_Curve_LS[\"strat_return\"] * df_Equity_Curve_LS['position'].shift(1))\n",
    "df_Equity_Curve_LS[\"strategy\"] = (1+df_Equity_Curve_LS[\"strategy\"].fillna(0)).cumprod()\n",
    "\n",
    "df_Equity_Curve_LS['buy_n_hold'] = (1 + df_Equity_Curve_LS['bnh_return'].fillna(0)).cumprod()"
   ]
  },
  {
   "cell_type": "code",
   "execution_count": null,
   "metadata": {},
   "outputs": [],
   "source": [
    "fig_strategies(df_Equity_Curve_LS)"
   ]
  },
  {
   "cell_type": "code",
   "execution_count": null,
   "metadata": {},
   "outputs": [],
   "source": [
    "df_Equity_Curve_LS['position'].value_counts()"
   ]
  },
  {
   "cell_type": "markdown",
   "metadata": {},
   "source": [
    "# PERFORMANCE METRICS"
   ]
  },
  {
   "cell_type": "code",
   "execution_count": null,
   "metadata": {},
   "outputs": [],
   "source": [
    "wyniki(np.array(df_Equity_Curve_LS['buy_n_hold'].values), 'Equity_Curve_BuyAndHold')"
   ]
  },
  {
   "cell_type": "code",
   "execution_count": null,
   "metadata": {},
   "outputs": [],
   "source": [
    "wyniki(np.array(df_Equity_Curve_LS['strategy'].values), 'Equity_Curve_strategii')"
   ]
  },
  {
   "cell_type": "code",
   "execution_count": null,
   "metadata": {},
   "outputs": [],
   "source": [
    "porownanie(np.array(df_Equity_Curve_LS['strategy'].values), np.array(df_Equity_Curve_LS['buy_n_hold'].values))"
   ]
  },
  {
   "cell_type": "markdown",
   "metadata": {},
   "source": [
    "### TO CSV - SAVE"
   ]
  },
  {
   "cell_type": "code",
   "execution_count": null,
   "metadata": {},
   "outputs": [],
   "source": [
    "STOCK_NAME_FOLDER = f'./Results/{PATH}/Visualisations'\n",
    "\n",
    "if not os.path.exists(STOCK_NAME_FOLDER):\n",
    "    os.makedirs(STOCK_NAME_FOLDER)\n",
    "\n",
    "df_Equity_Curve_LS.to_csv(f'{STOCK_NAME_FOLDER}/df_EC_LS_MAIN.csv')"
   ]
  }
 ],
 "metadata": {
  "kernelspec": {
   "display_name": "BS_env",
   "language": "python",
   "name": "python3"
  },
  "language_info": {
   "codemirror_mode": {
    "name": "ipython",
    "version": 3
   },
   "file_extension": ".py",
   "mimetype": "text/x-python",
   "name": "python",
   "nbconvert_exporter": "python",
   "pygments_lexer": "ipython3",
   "version": "3.8.15"
  },
  "orig_nbformat": 4
 },
 "nbformat": 4,
 "nbformat_minor": 2
}

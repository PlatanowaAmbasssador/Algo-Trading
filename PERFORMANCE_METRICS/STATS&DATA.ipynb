{
 "cells": [
  {
   "cell_type": "code",
   "execution_count": 1,
   "metadata": {},
   "outputs": [],
   "source": [
    "import pandas as pd\n",
    "import numpy as np\n",
    "import math\n",
    "import yfinance as yf\n",
    "\n",
    "# downloading data\n",
    "def get_data(index_symbol, start = \"2000-01-01\", end=\"2023-08-31\"):\n",
    "    df_index = yf.download(index_symbol, start, end).dropna()\n",
    "    return df_index"
   ]
  },
  {
   "cell_type": "code",
   "execution_count": 2,
   "metadata": {},
   "outputs": [
    {
     "name": "stdout",
     "output_type": "stream",
     "text": [
      "[*********************100%***********************]  1 of 1 completed\n",
      "[*********************100%***********************]  1 of 1 completed\n",
      "[*********************100%***********************]  1 of 1 completed\n",
      "[*********************100%***********************]  1 of 1 completed\n"
     ]
    }
   ],
   "source": [
    "# S&P500\n",
    "df_SnP = get_data(index_symbol=\"^GSPC\")\n",
    "df_ViX = get_data(index_symbol='^VIX')\n",
    "df_SnP['Vix_Close'] = df_ViX['Close']\n",
    "df_SnP.to_csv('./df_SnP.csv')\n",
    "\n",
    "# FTSE 100\n",
    "df_FTSE = get_data(index_symbol=\"^FTSE\")\n",
    "df_FTSE['stock_returns'] = df_FTSE['Close'].pct_change().dropna()\n",
    "df_FTSE['Volatility'] = df_FTSE['stock_returns'].rolling(window = 21).std(ddof = 0)*np.sqrt(252)\n",
    "df_FTSE.fillna(0, inplace = True)\n",
    "df_FTSE.to_csv('./df_FTSE.csv')\n",
    "\n",
    "#CAC 40\n",
    "df_CAC = get_data(index_symbol=\"^FCHI\")\n",
    "df_CAC['stock_returns'] = df_CAC['Close'].pct_change().dropna()\n",
    "df_CAC['Volatility'] = df_CAC['stock_returns'].rolling(window = 21).std(ddof = 0)*np.sqrt(252)\n",
    "df_CAC.fillna(0, inplace = True)\n",
    "df_CAC.to_csv('./df_CAC.csv')"
   ]
  },
  {
   "cell_type": "code",
   "execution_count": 3,
   "metadata": {},
   "outputs": [],
   "source": [
    "df_descrip = pd.DataFrame()\n",
    "df_descrip['S&P 500'] = df_SnP['Close'].describe()\n",
    "df_descrip['FTSE 100'] = df_FTSE['Close'].describe()\n",
    "df_descrip['CAC 40'] = df_CAC['Close'].describe()\n",
    "df_descrip = round(df_descrip.T)"
   ]
  },
  {
   "cell_type": "code",
   "execution_count": 4,
   "metadata": {},
   "outputs": [],
   "source": [
    "df_descrip.to_csv('../R - Markdown/images/df_descrip.csv')"
   ]
  }
 ],
 "metadata": {
  "kernelspec": {
   "display_name": "latest_env",
   "language": "python",
   "name": "python3"
  },
  "language_info": {
   "codemirror_mode": {
    "name": "ipython",
    "version": 3
   },
   "file_extension": ".py",
   "mimetype": "text/x-python",
   "name": "python",
   "nbconvert_exporter": "python",
   "pygments_lexer": "ipython3",
   "version": "3.8.15"
  },
  "orig_nbformat": 4
 },
 "nbformat": 4,
 "nbformat_minor": 2
}

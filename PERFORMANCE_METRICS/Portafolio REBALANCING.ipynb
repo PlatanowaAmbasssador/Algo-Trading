{
 "cells": [
  {
   "cell_type": "code",
   "execution_count": 1,
   "metadata": {},
   "outputs": [],
   "source": [
    "from performance_metrics import *"
   ]
  },
  {
   "cell_type": "markdown",
   "metadata": {},
   "source": [
    "# LONG ONLY"
   ]
  },
  {
   "cell_type": "code",
   "execution_count": 2,
   "metadata": {},
   "outputs": [],
   "source": [
    "STOCK_1 = 'S&P500'\n",
    "STOCK_2 = 'FTSE100'\n",
    "STOCK_3 = 'CAC'\n",
    "\n",
    "SENS = 'REAL_1'"
   ]
  },
  {
   "cell_type": "code",
   "execution_count": 3,
   "metadata": {},
   "outputs": [],
   "source": [
    "df_EC_SnP_LO = pd.read_csv(f'../LSTM/Results/{STOCK_1}/Sensitivity Analysis/{SENS}/Visualisations/df_EC_LO_MAIN.csv').set_index('Date')\n",
    "df_EC_FTSE_LO = pd.read_csv(f'../LSTM/Results/{STOCK_2}/Sensitivity Analysis/{SENS}/Visualisations/df_EC_LO_MAIN.csv').set_index('Date')\n",
    "df_EC_CAC_LO = pd.read_csv(f'../LSTM/Results/{STOCK_3}/Sensitivity Analysis/{SENS}/Visualisations/df_EC_LO_MAIN.csv').set_index('Date')"
   ]
  },
  {
   "cell_type": "code",
   "execution_count": 4,
   "metadata": {},
   "outputs": [],
   "source": [
    "start_date = '2005-01-25'\n",
    "end_date = '2023-09-01'"
   ]
  },
  {
   "cell_type": "code",
   "execution_count": 5,
   "metadata": {},
   "outputs": [],
   "source": [
    "refac_df_EC_SnP_LO = df_EC_SnP_LO[start_date:end_date][['Close', 'Predictions', 'position']]\n",
    "refac_df_EC_FTSE_LO = df_EC_FTSE_LO[start_date:end_date][['Close', 'Predictions', 'position']]\n",
    "refac_df_EC_CAC_LO = df_EC_CAC_LO[start_date:end_date][['Close', 'position']]"
   ]
  },
  {
   "cell_type": "code",
   "execution_count": 6,
   "metadata": {},
   "outputs": [],
   "source": [
    "refac_df_EC_SnP_LO['Returns'] = refac_df_EC_SnP_LO['Close'].pct_change().dropna()\n",
    "refac_df_EC_FTSE_LO['Returns'] = refac_df_EC_FTSE_LO['Close'].pct_change().dropna()\n",
    "refac_df_EC_CAC_LO['Returns'] = refac_df_EC_CAC_LO['Close'].pct_change().dropna()"
   ]
  },
  {
   "cell_type": "code",
   "execution_count": 7,
   "metadata": {},
   "outputs": [
    {
     "data": {
      "text/html": [
       "<div>\n",
       "<style scoped>\n",
       "    .dataframe tbody tr th:only-of-type {\n",
       "        vertical-align: middle;\n",
       "    }\n",
       "\n",
       "    .dataframe tbody tr th {\n",
       "        vertical-align: top;\n",
       "    }\n",
       "\n",
       "    .dataframe thead th {\n",
       "        text-align: right;\n",
       "    }\n",
       "</style>\n",
       "<table border=\"1\" class=\"dataframe\">\n",
       "  <thead>\n",
       "    <tr style=\"text-align: right;\">\n",
       "      <th></th>\n",
       "      <th>Close</th>\n",
       "      <th>Predictions</th>\n",
       "      <th>position</th>\n",
       "      <th>Returns</th>\n",
       "    </tr>\n",
       "    <tr>\n",
       "      <th>Date</th>\n",
       "      <th></th>\n",
       "      <th></th>\n",
       "      <th></th>\n",
       "      <th></th>\n",
       "    </tr>\n",
       "  </thead>\n",
       "  <tbody>\n",
       "    <tr>\n",
       "      <th>2005-01-25</th>\n",
       "      <td>1168.410034</td>\n",
       "      <td>1204.0775</td>\n",
       "      <td>1</td>\n",
       "      <td>NaN</td>\n",
       "    </tr>\n",
       "    <tr>\n",
       "      <th>2005-01-26</th>\n",
       "      <td>1174.069946</td>\n",
       "      <td>1201.2869</td>\n",
       "      <td>1</td>\n",
       "      <td>0.004844</td>\n",
       "    </tr>\n",
       "    <tr>\n",
       "      <th>2005-01-27</th>\n",
       "      <td>1174.550049</td>\n",
       "      <td>1199.0001</td>\n",
       "      <td>1</td>\n",
       "      <td>0.000409</td>\n",
       "    </tr>\n",
       "    <tr>\n",
       "      <th>2005-01-28</th>\n",
       "      <td>1171.359985</td>\n",
       "      <td>1197.6018</td>\n",
       "      <td>1</td>\n",
       "      <td>-0.002716</td>\n",
       "    </tr>\n",
       "    <tr>\n",
       "      <th>2005-01-31</th>\n",
       "      <td>1181.270020</td>\n",
       "      <td>1197.0659</td>\n",
       "      <td>1</td>\n",
       "      <td>0.008460</td>\n",
       "    </tr>\n",
       "    <tr>\n",
       "      <th>...</th>\n",
       "      <td>...</td>\n",
       "      <td>...</td>\n",
       "      <td>...</td>\n",
       "      <td>...</td>\n",
       "    </tr>\n",
       "    <tr>\n",
       "      <th>2023-08-28</th>\n",
       "      <td>4433.310059</td>\n",
       "      <td>4436.5044</td>\n",
       "      <td>1</td>\n",
       "      <td>0.006265</td>\n",
       "    </tr>\n",
       "    <tr>\n",
       "      <th>2023-08-29</th>\n",
       "      <td>4497.629883</td>\n",
       "      <td>4433.5850</td>\n",
       "      <td>0</td>\n",
       "      <td>0.014508</td>\n",
       "    </tr>\n",
       "    <tr>\n",
       "      <th>2023-08-30</th>\n",
       "      <td>4514.870117</td>\n",
       "      <td>4432.3740</td>\n",
       "      <td>0</td>\n",
       "      <td>0.003833</td>\n",
       "    </tr>\n",
       "    <tr>\n",
       "      <th>2023-08-31</th>\n",
       "      <td>4507.660156</td>\n",
       "      <td>4433.5770</td>\n",
       "      <td>0</td>\n",
       "      <td>-0.001597</td>\n",
       "    </tr>\n",
       "    <tr>\n",
       "      <th>2023-09-01</th>\n",
       "      <td>4515.770020</td>\n",
       "      <td>4435.7860</td>\n",
       "      <td>0</td>\n",
       "      <td>0.001799</td>\n",
       "    </tr>\n",
       "  </tbody>\n",
       "</table>\n",
       "<p>4684 rows × 4 columns</p>\n",
       "</div>"
      ],
      "text/plain": [
       "                  Close  Predictions  position   Returns\n",
       "Date                                                    \n",
       "2005-01-25  1168.410034    1204.0775         1       NaN\n",
       "2005-01-26  1174.069946    1201.2869         1  0.004844\n",
       "2005-01-27  1174.550049    1199.0001         1  0.000409\n",
       "2005-01-28  1171.359985    1197.6018         1 -0.002716\n",
       "2005-01-31  1181.270020    1197.0659         1  0.008460\n",
       "...                 ...          ...       ...       ...\n",
       "2023-08-28  4433.310059    4436.5044         1  0.006265\n",
       "2023-08-29  4497.629883    4433.5850         0  0.014508\n",
       "2023-08-30  4514.870117    4432.3740         0  0.003833\n",
       "2023-08-31  4507.660156    4433.5770         0 -0.001597\n",
       "2023-09-01  4515.770020    4435.7860         0  0.001799\n",
       "\n",
       "[4684 rows x 4 columns]"
      ]
     },
     "execution_count": 7,
     "metadata": {},
     "output_type": "execute_result"
    }
   ],
   "source": [
    "refac_df_EC_SnP_LO"
   ]
  },
  {
   "cell_type": "code",
   "execution_count": null,
   "metadata": {},
   "outputs": [],
   "source": []
  }
 ],
 "metadata": {
  "kernelspec": {
   "display_name": "latest_env",
   "language": "python",
   "name": "python3"
  },
  "language_info": {
   "codemirror_mode": {
    "name": "ipython",
    "version": 3
   },
   "file_extension": ".py",
   "mimetype": "text/x-python",
   "name": "python",
   "nbconvert_exporter": "python",
   "pygments_lexer": "ipython3",
   "version": "3.8.15"
  },
  "orig_nbformat": 4
 },
 "nbformat": 4,
 "nbformat_minor": 2
}

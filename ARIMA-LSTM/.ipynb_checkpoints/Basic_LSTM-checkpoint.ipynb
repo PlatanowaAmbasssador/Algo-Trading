{
 "cells": [
  {
   "cell_type": "code",
   "execution_count": 1,
   "metadata": {
    "collapsed": true
   },
   "outputs": [],
   "source": [
    "import yfinance as yf\n",
    "import pandas as pd\n",
    "import numpy as np"
   ]
  },
  {
   "cell_type": "code",
   "execution_count": 2,
   "outputs": [],
   "source": [
    "import matplotlib.pyplot as plt"
   ],
   "metadata": {
    "collapsed": false
   }
  },
  {
   "cell_type": "code",
   "execution_count": null,
   "outputs": [],
   "source": [
    "import tensorflow as tf\n",
    "from tensorflow import keras\n",
    "from sklearn.preprocessing import MinMaxScaler"
   ],
   "metadata": {
    "collapsed": false,
    "pycharm": {
     "is_executing": true
    }
   }
  },
  {
   "cell_type": "markdown",
   "source": [
    "## Import data using Yahoo Finance"
   ],
   "metadata": {
    "collapsed": false
   }
  },
  {
   "cell_type": "code",
   "execution_count": 5,
   "outputs": [],
   "source": [
    "class YahooApi:\n",
    "    def __init__(self, start, stock_ID):\n",
    "        self.start = start\n",
    "        self.stock_ID = stock_ID\n",
    "\n",
    "    def data(self):\n",
    "        data = yf.Ticker(self.stock_ID)\n",
    "        df_data = data.history(start=self.start).reset_index(drop=False)\n",
    "\n",
    "        return df_data"
   ],
   "metadata": {
    "collapsed": false
   }
  },
  {
   "cell_type": "code",
   "execution_count": 6,
   "outputs": [],
   "source": [
    "GSPC = YahooApi(start='2000-01-01', stock_ID='^GSPC')\n",
    "df_GSPC = GSPC.data()\n",
    "df_GSPC = pd.DataFrame(df_GSPC[['Date', 'Close']])\n",
    "df_GSPC['Date'] = [i.date() for i in df_GSPC['Date']]\n",
    "df_GSPC.set_index(\"Date\", inplace=True)"
   ],
   "metadata": {
    "collapsed": false
   }
  },
  {
   "cell_type": "code",
   "execution_count": 7,
   "outputs": [],
   "source": [
    "VIX = YahooApi(start='2000-01-01', stock_ID='^VIX')\n",
    "df_VIX = VIX.data()\n",
    "df_VIX = pd.DataFrame(df_VIX[['Date', 'Close']])\n",
    "df_VIX['Date'] = [i.date() for i in df_VIX['Date']]\n",
    "df_VIX.set_index(\"Date\", inplace=True)"
   ],
   "metadata": {
    "collapsed": false
   }
  },
  {
   "cell_type": "code",
   "execution_count": null,
   "outputs": [],
   "source": [],
   "metadata": {
    "collapsed": false
   }
  }
 ],
 "metadata": {
  "kernelspec": {
   "display_name": "Python 3",
   "language": "python",
   "name": "python3"
  },
  "language_info": {
   "codemirror_mode": {
    "name": "ipython",
    "version": 2
   },
   "file_extension": ".py",
   "mimetype": "text/x-python",
   "name": "python",
   "nbconvert_exporter": "python",
   "pygments_lexer": "ipython2",
   "version": "2.7.6"
  }
 },
 "nbformat": 4,
 "nbformat_minor": 0
}

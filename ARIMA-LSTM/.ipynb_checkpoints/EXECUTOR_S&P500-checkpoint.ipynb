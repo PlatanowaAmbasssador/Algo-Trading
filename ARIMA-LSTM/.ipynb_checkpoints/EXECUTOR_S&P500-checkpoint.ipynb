{
 "cells": [
  {
   "cell_type": "code",
   "execution_count": 1,
   "metadata": {},
   "outputs": [],
   "source": [
    "from LSTM_Functions import *"
   ]
  },
  {
   "cell_type": "markdown",
   "metadata": {},
   "source": [
    "# S&P 500"
   ]
  },
  {
   "cell_type": "markdown",
   "metadata": {},
   "source": [
    "### Downloading data"
   ]
  },
  {
   "cell_type": "code",
   "execution_count": 2,
   "metadata": {},
   "outputs": [
    {
     "name": "stdout",
     "output_type": "stream",
     "text": [
      "[*********************100%***********************]  1 of 1 completed\n",
      "[*********************100%***********************]  1 of 1 completed\n"
     ]
    }
   ],
   "source": [
    "# downloading data\n",
    "df_SnP = get_data(index_symbol=\"^GSPC\")\n",
    "df_ViX = get_data(index_symbol='^VIX')\n",
    "\n",
    "# setting data\n",
    "df_SnP['Vix_Close'] = df_ViX['Close']"
   ]
  },
  {
   "cell_type": "markdown",
   "metadata": {},
   "source": [
    "### Data preperation"
   ]
  },
  {
   "cell_type": "code",
   "execution_count": 3,
   "metadata": {},
   "outputs": [],
   "source": [
    "# data preperation \n",
    "values = df_SnP.values.astype('float32')\n",
    "\n",
    "# scaling data\n",
    "scaler = MinMaxScaler(feature_range=(0, 1))\n",
    "scaled_values = scaler.fit_transform(values)\n",
    "\n",
    "# converting data to supervised learning\n",
    "reframed_values = series_to_supervised(scaled_values, 1, 1)"
   ]
  },
  {
   "cell_type": "markdown",
   "metadata": {},
   "source": [
    "# Hyperparameter Tunning"
   ]
  },
  {
   "cell_type": "code",
   "execution_count": 4,
   "metadata": {},
   "outputs": [],
   "source": [
    "neurons_list = [50,100,150,200]\n",
    "dropout_rate = [0.0, 0.1, 0.2] \n",
    "optimizer = ['Adam', 'Nadam', 'SGD']\n",
    "learning_rate = [0.01, 0.001]\n",
    "\n",
    "trials = 10\n",
    "epochs = 50\n",
    "batch_size = 16\n",
    "\n",
    "data = reframed_values\n",
    "lookback_bars = 500\n",
    "validation_bars = 250"
   ]
  },
  {
   "cell_type": "code",
   "execution_count": 5,
   "metadata": {},
   "outputs": [],
   "source": [
    "built_model = RNNmodel(input_unit=neurons_list, Dropout_rate=dropout_rate, optimizer=optimizer, learning_rate=learning_rate)"
   ]
  },
  {
   "cell_type": "code",
   "execution_count": 6,
   "metadata": {},
   "outputs": [],
   "source": [
    "# hyperparameter_tunning(data, lookback_bars, validation_bars, built_model, trials, epochs, batch_size) # RandomSearch"
   ]
  },
  {
   "cell_type": "code",
   "execution_count": null,
   "metadata": {},
   "outputs": [
    {
     "name": "stdout",
     "output_type": "stream",
     "text": [
      "Trial 25 Complete [00h 00m 04s]\n",
      "val_accuracy: 0.0\n",
      "\n",
      "Best val_accuracy So Far: 0.0\n",
      "Total elapsed time: 00h 01m 25s\n",
      "\n",
      "Search: Running Trial #26\n",
      "\n",
      "Value             |Best Value So Far |Hyperparameter\n",
      "200               |50                |input_unit\n",
      "0                 |1                 |n_layers\n",
      "0.1               |0                 |Dropout_rate\n",
      "SGD               |Nadam             |optimizer\n",
      "0.01              |0.01              |learning_rate\n",
      "2                 |2                 |tuner/epochs\n",
      "0                 |0                 |tuner/initial_epoch\n",
      "3                 |3                 |tuner/bracket\n",
      "0                 |0                 |tuner/round\n",
      "\n",
      "Epoch 1/2\n"
     ]
    },
    {
     "name": "stderr",
     "output_type": "stream",
     "text": [
      "2023-03-05 02:19:54.210884: I tensorflow/core/grappler/optimizers/custom_graph_optimizer_registry.cc:113] Plugin optimizer for device_type GPU is enabled.\n",
      "2023-03-05 02:19:54.377814: I tensorflow/core/grappler/optimizers/custom_graph_optimizer_registry.cc:113] Plugin optimizer for device_type GPU is enabled.\n",
      "2023-03-05 02:19:54.439630: I tensorflow/core/grappler/optimizers/custom_graph_optimizer_registry.cc:113] Plugin optimizer for device_type GPU is enabled.\n",
      "2023-03-05 02:19:54.623455: I tensorflow/core/grappler/optimizers/custom_graph_optimizer_registry.cc:113] Plugin optimizer for device_type GPU is enabled.\n"
     ]
    },
    {
     "name": "stdout",
     "output_type": "stream",
     "text": [
      "\r",
      " 1/16 [>.............................] - ETA: 23s - loss: 0.0286 - accuracy: 0.0000e+00"
     ]
    },
    {
     "name": "stderr",
     "output_type": "stream",
     "text": [
      "2023-03-05 02:19:54.749463: I tensorflow/core/grappler/optimizers/custom_graph_optimizer_registry.cc:113] Plugin optimizer for device_type GPU is enabled.\n"
     ]
    },
    {
     "name": "stdout",
     "output_type": "stream",
     "text": [
      "13/16 [=======================>......] - ETA: 0s - loss: 0.0195 - accuracy: 0.0000e+00"
     ]
    }
   ],
   "source": [
    "hyperparameter_tunning_HYPERBAND(data, lookback_bars, validation_bars, built_model, epochs, batch_size) # RandomSearch"
   ]
  },
  {
   "cell_type": "markdown",
   "metadata": {},
   "source": [
    "### FITTING THE MODEL AND PREDICTING"
   ]
  },
  {
   "cell_type": "code",
   "execution_count": null,
   "metadata": {},
   "outputs": [],
   "source": [
    "real_train_values, TRAIN_Y, real_test_values, test_model_predictions, TEST_Y = predictpredict_LSTM_HYPERBAND_LSTM(data, lookback_bars, validation_bars)"
   ]
  },
  {
   "cell_type": "markdown",
   "metadata": {},
   "source": [
    "### INVERSING THE VALUES"
   ]
  },
  {
   "cell_type": "code",
   "execution_count": null,
   "metadata": {},
   "outputs": [],
   "source": [
    "inv_y_test = inverse_real_test(real_test_values, TEST_Y, scaler)\n",
    "inv_y_pred_test = inverse_test_predictions(test_model_predictions, real_test_values, scaler)"
   ]
  },
  {
   "cell_type": "code",
   "execution_count": null,
   "metadata": {},
   "outputs": [],
   "source": [
    "# we need dates as well\n",
    "# can it be in this way --> X = [len(df_SnP) - len(inv_y_tes)] --> df['dates'] = df[...][X:]"
   ]
  },
  {
   "cell_type": "code",
   "execution_count": null,
   "metadata": {},
   "outputs": [],
   "source": [
    "df_inv_y_test = pd.DataFrame(data={'Date': df_SnP.index[501:], 'inv_y__test': inv_y_test})\n",
    "df_inv_y_pred_test = pd.DataFrame(data={'Date': df_SnP.index[501:], 'inv_y_pred_test': inv_y_pred_test})"
   ]
  },
  {
   "cell_type": "markdown",
   "metadata": {},
   "source": [
    "### CONVERTING AND SAVING REAL DATA SET AND PREDICTIONS TO CSV"
   ]
  },
  {
   "cell_type": "code",
   "execution_count": null,
   "metadata": {},
   "outputs": [],
   "source": [
    "# convert_to_csv(df_SnP, df_inv_y_test, df_inv_y_pred_test, 'S&P 500')"
   ]
  },
  {
   "cell_type": "code",
   "execution_count": null,
   "metadata": {},
   "outputs": [],
   "source": [
    "# df_inv_y_test = pd.read_csv('./RESULTS/S&P 500/df_test.csv')\n",
    "# df_inv_y_pred_test = pd.read_csv('./RESULTS/S&P 500/df_predictions.csv')"
   ]
  },
  {
   "cell_type": "markdown",
   "metadata": {},
   "source": [
    "### Visualisation of real vs. predictions"
   ]
  },
  {
   "cell_type": "code",
   "execution_count": null,
   "metadata": {},
   "outputs": [],
   "source": [
    "fig_LSTM(df_SnP, df_inv_y_test, df_inv_y_pred_test)"
   ]
  },
  {
   "cell_type": "code",
   "execution_count": null,
   "metadata": {},
   "outputs": [],
   "source": []
  },
  {
   "cell_type": "code",
   "execution_count": null,
   "metadata": {},
   "outputs": [],
   "source": []
  }
 ],
 "metadata": {
  "kernelspec": {
   "display_name": "Python 3 (ipykernel)",
   "language": "python",
   "name": "python3"
  },
  "language_info": {
   "codemirror_mode": {
    "name": "ipython",
    "version": 3
   },
   "file_extension": ".py",
   "mimetype": "text/x-python",
   "name": "python",
   "nbconvert_exporter": "python",
   "pygments_lexer": "ipython3",
   "version": "3.8.15"
  }
 },
 "nbformat": 4,
 "nbformat_minor": 2
}
